{
 "cells": [
  {
   "cell_type": "markdown",
   "id": "1b6f4c67",
   "metadata": {},
   "source": [
    "# SageMath Plot with Slider\n",
    "\n",
    "In this sample, we plot a parametric curve in two dimensions and provide adjustable sliders to color a segment of the curve in orange. We will use the curve defined by\n",
    "\n",
    "$$\n",
    "\\begin{align*}\n",
    "x(t) &= t^3 - 12 t \\\\\n",
    "y(t) &= t^2 - 1.\n",
    "\\end{align*}\n",
    "$$"
   ]
  },
  {
   "cell_type": "code",
   "execution_count": 1,
   "id": "c545a390",
   "metadata": {},
   "outputs": [],
   "source": [
    "# Our parametric equations will be defined in terms of `t`.\n",
    "t = var('t')\n",
    "\n",
    "# These are the equations from the introduction.\n",
    "x(t) = t**3 - 12*t\n",
    "y(t) = t**2 - 1"
   ]
  },
  {
   "cell_type": "code",
   "execution_count": 2,
   "id": "9a0b2912",
   "metadata": {},
   "outputs": [
    {
     "name": "stderr",
     "output_type": "stream",
     "text": [
      "Widget Javascript not detected.  It may not be installed or enabled properly. Reconnecting the current kernel may help.\n"
     ]
    },
    {
     "data": {
      "application/vnd.jupyter.widget-view+json": {
       "model_id": "4338712cb0324829a58f91d11a367e6c"
      }
     },
     "metadata": {},
     "output_type": "display_data"
    }
   ],
   "source": [
    "# the @interact decorator causes this fuction to be run as necessary when\n",
    "# the slider value changes. You won't have to call the function yourself.\n",
    "@interact\n",
    "def demo(\n",
    "    t1 = slider(-5.0, 5.0, 0.1, default=-2, label='t1'),\n",
    "    t2 = slider(-5.0, 5.0, 0.1, default= 2, label='t2'),\n",
    "):\n",
    "    out = parametric_plot((x(t), y(t)), (t, -5.0, 5.0), color='black', aspect_ratio=1, thickness=5)\n",
    "    # An empty range to plot causes an error when plotting. You may or may not need a guard in your case.\n",
    "    if t1 != t2:\n",
    "        out += parametric_plot((x(t), y(t)), (t, min(t1, t2), max(t1, t2)), color='orange', aspect_ratio=1, thickness=5)\n",
    "    # If you didn't need a guard, show(p1 + p2) is convenient.\n",
    "    show(out)"
   ]
  },
  {
   "cell_type": "code",
   "execution_count": null,
   "id": "4af7fdb8",
   "metadata": {},
   "outputs": [],
   "source": []
  }
 ],
 "metadata": {
  "kernelspec": {
   "display_name": "SageMath 9.5",
   "language": "sage",
   "name": "sagemath"
  },
  "language_info": {
   "codemirror_mode": {
    "name": "ipython",
    "version": 3
   },
   "file_extension": ".py",
   "mimetype": "text/x-python",
   "name": "python",
   "nbconvert_exporter": "python",
   "pygments_lexer": "ipython3",
   "version": "3.11.2"
  }
 },
 "nbformat": 4,
 "nbformat_minor": 5
}
