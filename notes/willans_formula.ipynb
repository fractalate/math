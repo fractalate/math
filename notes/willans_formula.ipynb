{
 "cells": [
  {
   "cell_type": "markdown",
   "id": "a5988926",
   "metadata": {},
   "source": [
    "# Willans' Formula\n",
    "\n",
    "This program utilizes [Willans' Formula](https://mathworld.wolfram.com/WillansFormula.html) to find the first 10 prime numbers. This formula provides a method to calculate the $n^{\\text{th}}$ prime directly, albeit quite slowly. The $n^{\\text{th}}$ prime, $p_n$, can be calculated with the following formula:\n",
    "\n",
    "$$\n",
    "\\begin{align*}\n",
    "p_n = 1 + \\sum_{i=1}^{2^n}\n",
    "    \\left\\lfloor\n",
    "    \\left(\n",
    "        \\frac{n}{\\sum_{j=1}^{i} \\left\\lfloor \\left( \\cos \\frac{(j-1)! + 1}{j} \\pi \\right)^2 \\right\\rfloor }\n",
    "    \\right)^{1/n}\n",
    "    \\right\\rfloor\n",
    "\\end{align*}\n",
    "$$\n",
    "\n",
    "This calculation will quickly reach the effective limits of IEEE 754 floating point number computations, so the `gmpy2` library is used to do the calculation with additional precision."
   ]
  },
  {
   "cell_type": "code",
   "execution_count": 1,
   "id": "6ba74cf7-4262-484a-b1f9-498239871539",
   "metadata": {},
   "outputs": [],
   "source": [
    "from math import floor\n",
    "from gmpy2 import mpfr, cos, atan\n",
    "\n",
    "# Question to think about... what is the minimum precision required to accurately calculate the n-th prime with this method?\n",
    "import gmpy2\n",
    "gmpy2.get_context().precision = 256\n",
    "\n",
    "zero = mpfr(0)\n",
    "one = mpfr(1)\n",
    "pi = 4 * atan(one)\n",
    "\n",
    "def inner(i):\n",
    "    ttl = zero\n",
    "    jfac = 1\n",
    "    for j in range(1, i + 1):\n",
    "        ttl += floor(\n",
    "            (\n",
    "                cos( pi*(jfac + one)/mpfr(j) )\n",
    "            )**2\n",
    "        )\n",
    "        jfac *= j\n",
    "    return ttl\n",
    "\n",
    "def p(n):\n",
    "    ttl = one\n",
    "    for i in range(1, 2**n + 1):\n",
    "        ttl += floor(\n",
    "            (mpfr(n)/inner(i))**(one/mpfr(n))\n",
    "        )\n",
    "    return ttl"
   ]
  },
  {
   "cell_type": "code",
   "execution_count": 2,
   "id": "8596a995-03d5-4bea-998e-1c3b58156a41",
   "metadata": {},
   "outputs": [
    {
     "name": "stdout",
     "output_type": "stream",
     "text": [
      "2.0\n",
      "3.0\n",
      "5.0\n",
      "7.0\n",
      "11.0\n",
      "13.0\n",
      "17.0\n",
      "19.0\n",
      "23.0\n",
      "29.0\n"
     ]
    }
   ],
   "source": [
    "for i in range(1, 10 + 1):\n",
    "    print(p(i))"
   ]
  },
  {
   "cell_type": "code",
   "execution_count": null,
   "id": "a5e0e7c8",
   "metadata": {},
   "outputs": [],
   "source": []
  }
 ],
 "metadata": {
  "kernelspec": {
   "display_name": "Python 3 (ipykernel)",
   "language": "python",
   "name": "python3"
  },
  "language_info": {
   "codemirror_mode": {
    "name": "ipython",
    "version": 3
   },
   "file_extension": ".py",
   "mimetype": "text/x-python",
   "name": "python",
   "nbconvert_exporter": "python",
   "pygments_lexer": "ipython3",
   "version": "3.11.2"
  }
 },
 "nbformat": 4,
 "nbformat_minor": 5
}
