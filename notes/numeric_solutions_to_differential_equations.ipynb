{
 "cells": [
  {
   "cell_type": "markdown",
   "id": "dcbc088d-8985-42c8-b4b6-3d5497206b74",
   "metadata": {},
   "source": [
    "# Numeric Solutions to Differential Equations"
   ]
  },
  {
   "cell_type": "markdown",
   "id": "f2894e39-5ec4-420b-813d-e5c616ac216e",
   "metadata": {},
   "source": [
    "In this notebook we explore the usage of some methods for finding numeric solutions to differential equations."
   ]
  },
  {
   "cell_type": "code",
   "execution_count": 1,
   "id": "c1444bf7-7276-47f8-82d4-f84f5177eb32",
   "metadata": {},
   "outputs": [],
   "source": [
    "import matplotlib.pyplot as plt\n",
    "import numpy as np\n",
    "\n",
    "from scipy import integrate"
   ]
  },
  {
   "cell_type": "markdown",
   "id": "2acd30bd-339e-41b2-8a41-c9a908efba34",
   "metadata": {},
   "source": [
    "As a basic example, we find a numeric solution to a basic differential equation. This one comes from Differential Equations and Linear Algebra (4e) Chapter 1.5, Equation 1.\n",
    "\n",
    "$$\n",
    "\\frac{dx}{dy} = 2xy\n",
    "$$\n",
    "\n",
    "where $y > 0$. The solution is found to be $y = C e^{x^2}$ where $C$ is some constant determined by the initial condition (or alternatively $y = e^{x^2 + D}$ for some $D$ also determinted by the initial condition).\n",
    "\n",
    "In this example, we'll use the `solve_ivp()` function from the  `integrate` module offered by Python's SciPy library to do the numerical calculation. Conventionally, the \"free\" variable is called $t$ (i.e. \"time\" usually) in the documentation, so we'll replace $x$ with $t$ in our code."
   ]
  },
  {
   "cell_type": "code",
   "execution_count": 2,
   "id": "dd69dd31-02d7-49aa-9ba7-b4df01793bba",
   "metadata": {},
   "outputs": [
    {
     "name": "stdout",
     "output_type": "stream",
     "text": [
      "  message: The solver successfully reached the end of the integration interval.\n",
      "  success: True\n",
      "   status: 0\n",
      "        t: [-4.000e+00 -3.992e+00 ...  3.992e+00  4.000e+00]\n",
      "        y: [[ 1.000e+00  9.380e-01 ...  8.489e-01  9.050e-01]]\n",
      "      sol: None\n",
      " t_events: None\n",
      " y_events: None\n",
      "     nfev: 176\n",
      "     njev: 0\n",
      "      nlu: 0\n"
     ]
    },
    {
     "data": {
      "image/png": "[encoded data removed]",
      "text/plain": [
       "<Figure size 640x480 with 1 Axes>"
      ]
     },
     "metadata": {},
     "output_type": "display_data"
    }
   ],
   "source": [
    "def example_1():\n",
    "\n",
    "    # The differential equation should be expressed as dy/dx = func(x, y). In practice, y will be\n",
    "    # an ndarray since integrate.solve_ivp() can evaluate systems of differential equations.\n",
    "    def func(t, y):\n",
    "        return 2 * t * y\n",
    "\n",
    "    # The integrate.solve_ivp() function requires a range for the values of t we are interested in.\n",
    "    t0, t1 = -4.0, 4.0\n",
    "    \n",
    "    # Conventionally, the particular values of t we are interested in are called t_eval.\n",
    "    NUM_SAMPLES=1000\n",
    "    t_eval = np.linspace(t0, t1, NUM_SAMPLES)\n",
    "\n",
    "    # We're also interested in a particular solution, so we provide an initial condition. This is\n",
    "    # the value of y at t=t0.\n",
    "    yt0 = 1.0\n",
    "\n",
    "    # Given the initial condition, we can actually find our explicit particular solution, which we'll\n",
    "    # use for comparison.\n",
    "    def solution(t):\n",
    "        return np.exp(t*t - 16)\n",
    "\n",
    "    # We call our explicit solution values y_eval in the spirit of t_eval.\n",
    "    y_eval = solution(t_eval)\n",
    "\n",
    "    # Let's find the numeric solutions! integrate.solve_ivp() can work with systems of differential\n",
    "    # equations, so our \"state vector\" (comprised of our initial condition here) is expressed an a ndarray.\n",
    "    result = integrate.solve_ivp(func, (t0, t1), np.array([yt0]), t_eval=t_eval)\n",
    "\n",
    "    # For completeness, we print the results which shows us what sort of information we now have available.\n",
    "    print(result)\n",
    "\n",
    "    # In particualr, the values of t and y we want to plot are located in equivalently named\n",
    "    # attributes. However, since our initial condition was expressed as an ndarray, we must\n",
    "    # extract the particular sequence of values of y we are interested in.\n",
    "    ts = result.t\n",
    "    ys = result.y[0]\n",
    "\n",
    "    # The explicit solution is plotted in blue.\n",
    "    plt.plot(t_eval, y_eval, c='blue')\n",
    "    # The numeric solution is plotted in red over top.\n",
    "    plt.plot(ts, ys, c='red')\n",
    "\n",
    "    # Finally, show the graph.\n",
    "    plt.show()\n",
    "\n",
    "example_1()"
   ]
  },
  {
   "cell_type": "markdown",
   "id": "3fd09ce1-b2c4-4a55-9868-91ff5a715eb6",
   "metadata": {},
   "source": [
    "We see that our numeric solution matches quite closely to the explicit particular solution."
   ]
  },
  {
   "cell_type": "code",
   "execution_count": null,
   "id": "4e012e30-bd41-4881-81fb-a6bda2731d51",
   "metadata": {},
   "outputs": [],
   "source": []
  }
 ],
 "metadata": {
  "kernelspec": {
   "display_name": "Python 3 (ipykernel)",
   "language": "python",
   "name": "python3"
  },
  "language_info": {
   "codemirror_mode": {
    "name": "ipython",
    "version": 3
   },
   "file_extension": ".py",
   "mimetype": "text/x-python",
   "name": "python",
   "nbconvert_exporter": "python",
   "pygments_lexer": "ipython3",
   "version": "3.11.2"
  }
 },
 "nbformat": 4,
 "nbformat_minor": 5
}
