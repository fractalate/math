{
 "cells": [
  {
   "cell_type": "code",
   "execution_count": 1,
   "id": "86ee8264-7325-4459-85e0-8059b94814d7",
   "metadata": {},
   "outputs": [],
   "source": [
    "import numpy as np\n",
    "\n",
    "import matplotlib.pyplot as plt"
   ]
  },
  {
   "cell_type": "markdown",
   "id": "f8d037c2-8cec-4a1d-8359-a27bf3d8fb4f",
   "metadata": {},
   "source": [
    "# Electric Field from Spherical Shell\n",
    "\n",
    "Consider a unit spherical shell in $\\mathbb{R}^3$ centered at the origin with constant surface charge density $\\sigma$.\n",
    "Find the electric field vector at point $(x, y, z)$ produced by the charged surface.\n",
    "\n",
    "$$\n",
    "\\begin{align*}\n",
    "0 \\le \\theta \\le 2 \\pi \\\\\n",
    "0 \\le \\phi \\le \\pi \\\\\n",
    "\\mathbf{r} = \\langle \\cos \\theta \\sin \\phi, \\sin \\theta \\sin \\phi, \\cos \\phi \\rangle \\\\\n",
    "\\hat{\\mathbf{r}} = \\frac{\\mathbf{p} - \\mathbf{r}}{|\\mathbf{p} - \\mathbf{r}|} \\\\\n",
    "dA = \\sin \\phi \\, d\\phi \\, d\\theta \\\\\n",
    "\\mathbf{p} = \\langle x, y, z \\rangle\n",
    "\\end{align*}\n",
    "$$"
   ]
  },
  {
   "cell_type": "markdown",
   "id": "7964bfea-7df5-4251-95a9-f90d5618025f",
   "metadata": {},
   "source": [
    "$$\n",
    "\\begin{align*}\n",
    "\\mathbf{E}\n",
    "    &= \\int_0^{2\\pi} \\int_0^\\pi \\frac{k \\sigma}{ |\\mathbf{p} - \\mathbf{r}|^2 } \\hat{\\mathbf{r}} \\, dA \\\\\n",
    "    &= \\int_0^{2\\pi} \\int_0^\\pi \\frac{k \\sigma}{ |\\mathbf{p} - \\mathbf{r}|^3 } (\\mathbf{p} - \\mathbf{r}) \\, dA\n",
    "\\end{align*}\n",
    "$$"
   ]
  },
  {
   "cell_type": "code",
   "execution_count": 2,
   "id": "e167cf29-3a55-43b7-954d-da4faf514489",
   "metadata": {},
   "outputs": [
    {
     "name": "stdout",
     "output_type": "stream",
     "text": [
      "inside (0.02248518437962211, -0.00014823917916770076, 7.657748787924957e-05)\n",
      "inside (0.03172487134797582, -0.0002991858408230407, 6.992098805589817e-05)\n",
      "inside (0.015981565259045434, -0.01029962498530145, 5.4794300522991845e-05)\n",
      "inside (0.030156806805937464, -0.00019881626104360745, 0.0009465974312065408)\n",
      "inside (0.5371193217750108, -0.07628584511911757, 2.9181876514044374e-05)\n",
      "outside (50.63925933871248, -0.07254271677261508, 2.5118644906559334e-05)\n",
      "outside (25.052159762083015, -0.0005149900785176276, 1.3069991868799055e-05)\n",
      "outside (14.100835651056132, -9.275012827334726e-05, 6.849290114502017e-06)\n"
     ]
    },
    {
     "data": {
      "image/png": "[encoded data removed]",
      "text/plain": [
       "<Figure size 640x480 with 1 Axes>"
      ]
     },
     "metadata": {},
     "output_type": "display_data"
    }
   ],
   "source": [
    "def sample():\n",
    "    k = 8.988\n",
    "    sigma = 1\n",
    "    \n",
    "    def electric_field(x, y, z):\n",
    "        dtheta = dphi = 0.005\n",
    "\n",
    "        def dA(phi):\n",
    "            return np.sin(phi) * dphi * dtheta\n",
    "\n",
    "        thetas = np.arange(0, 2 * np.pi - dtheta, dtheta * 2)\n",
    "        phis = np.arange(0, np.pi, dphi)\n",
    "\n",
    "        theta, phi = np.meshgrid(thetas, phis)\n",
    "\n",
    "        rx = np.cos(theta) * np.sin(phi)\n",
    "        ry = np.sin(theta) * np.sin(phi)\n",
    "        rz = np.cos(phi)\n",
    "\n",
    "        dx = x - rx\n",
    "        dy = y - ry\n",
    "        dz = z - rz\n",
    "        d2 = dx**2.0 + dy**2.0 + dz**2.0\n",
    "        \n",
    "        coefs = k * sigma / d2**(3/2) * dA(phi)\n",
    "\n",
    "        return (coefs * dx).sum(), (coefs * dy).sum(), (coefs * dz).sum()\n",
    "\n",
    "    def plot_electric_field_strength_on_z(z):\n",
    "        N = 50\n",
    "        result = np.zeros((N, N))\n",
    "        for i, x in enumerate(np.linspace(-1.5, 1.5, N)):\n",
    "            for j, y in enumerate(np.linspace(-1.5, 1.5, N)):\n",
    "                mx, my, mz = electric_field(x, y, z)\n",
    "                result[i:i+1,j:j+1] = np.log(np.sqrt(mx**2.0 + my**2.0 + mz**2.0) + 1)\n",
    "    \n",
    "        fig = plt.figure()\n",
    "        ax = fig.add_subplot(111)\n",
    "        \n",
    "        ax.set_title('Electric Field Strength on X/Y Plane at Z={:.1f}'.format(z))\n",
    "        ax.set_xticks([])\n",
    "        ax.set_yticks([])\n",
    "        \n",
    "        ax.imshow(result)\n",
    "        plt.show()\n",
    "\n",
    "    # Show the electric field at some key points.\n",
    "    # These should be close to 0.\n",
    "    print('inside', electric_field(0.0,  0.0,  0.0))\n",
    "    print('inside', electric_field(0.25, 0.0,  0.0))\n",
    "    print('inside', electric_field(0.0,  0.50, 0.0))\n",
    "    print('inside', electric_field(0.0,  0.0,  0.75))\n",
    "    print('inside', electric_field(0.95, 0.0,  0.0))\n",
    "\n",
    "    # Show the electric field at some key points.\n",
    "    # These should point away from the sphere and have an appreciable field.\n",
    "    print('outside', electric_field(1.05, 0.0, 0.0))\n",
    "    print('outside', electric_field(1.50, 0.0, 0.0))\n",
    "    print('outside', electric_field(2.00, 0.0, 0.0))\n",
    "\n",
    "    # Show the electric field strength.\n",
    "    plot_electric_field_strength_on_z(0.5)\n",
    "\n",
    "sample()"
   ]
  },
  {
   "cell_type": "code",
   "execution_count": 3,
   "id": "3352fdfc-09b5-4ee7-8bc6-f1c097324681",
   "metadata": {},
   "outputs": [
    {
     "name": "stdout",
     "output_type": "stream",
     "text": [
      "12.567999711193576\n"
     ]
    }
   ],
   "source": [
    "def sample():\n",
    "    def sphere_area():\n",
    "        dtheta = dphi = 0.001\n",
    "\n",
    "        def dA(phi):\n",
    "            return np.sin(phi) * dphi * dtheta\n",
    "\n",
    "        thetas = np.arange(0, 2 * np.pi, dtheta)\n",
    "        phis = np.arange(0, np.pi, dphi)\n",
    "\n",
    "        theta, phi = np.meshgrid(thetas, phis)\n",
    "\n",
    "        return dA(phi).sum()\n",
    "\n",
    "    print(sphere_area())\n",
    "\n",
    "sample()"
   ]
  },
  {
   "cell_type": "code",
   "execution_count": null,
   "id": "af41c9c2-2d82-49dd-9761-0c27730e8283",
   "metadata": {},
   "outputs": [],
   "source": []
  }
 ],
 "metadata": {
  "kernelspec": {
   "display_name": "Python 3 (ipykernel)",
   "language": "python",
   "name": "python3"
  },
  "language_info": {
   "codemirror_mode": {
    "name": "ipython",
    "version": 3
   },
   "file_extension": ".py",
   "mimetype": "text/x-python",
   "name": "python",
   "nbconvert_exporter": "python",
   "pygments_lexer": "ipython3",
   "version": "3.11.2"
  }
 },
 "nbformat": 4,
 "nbformat_minor": 5
}
