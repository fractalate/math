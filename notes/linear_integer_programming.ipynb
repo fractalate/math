{
 "cells": [
  {
   "cell_type": "markdown",
   "id": "60e437db",
   "metadata": {},
   "source": [
    "# Linear Integer Programming\n",
    "\n",
    "The following linear program and related code come from an [example from Wikipedia](https://en.wikipedia.org/wiki/Integer_programming#Example) that is solved via an [example in the SciPy documentation](https://docs.scipy.org/doc/scipy/reference/generated/scipy.optimize.milp.html).\n",
    "\n",
    "## Example\n",
    "\n",
    "Maximize $y$ given:\n",
    "\n",
    "$$\n",
    "\\begin{align}\n",
    "    -x + y &\\le 1 \\\\\n",
    "    3x + 2y & \\le 12 \\\\\n",
    "    2x + 3y & \\le 12 \\\\\n",
    "    x, y & \\ge 0 \\\\\n",
    "    x, y & \\in \\mathbb{Z}\n",
    "\\end{align}\n",
    "$$\n",
    "\n",
    "The `scipy.optimize.milp()` function can be used to solve this problem. It solves problems of the form: minimize $c^T x$ given:\n",
    "\n",
    "$$\n",
    "\\begin{align}\n",
    "    b_l \\le Ax \\le b_u \\\\\n",
    "    l \\le x \\le u \\\\\n",
    "    x_i \\in \\mathbb{Z} \\\\\n",
    "    i \\in X_i\n",
    "\\end{align}\n",
    "$$\n",
    "\n",
    "where $X_i$ is the set of indicies for which we are optimizing as integers (it can be used for mixed linear programming if desired). The original linear program can be converted so that it is compatible with `milp()`."
   ]
  },
  {
   "cell_type": "code",
   "execution_count": 1,
   "id": "77c67e12",
   "metadata": {},
   "outputs": [],
   "source": [
    "import numpy as np\n",
    "from scipy.optimize import LinearConstraint, milp"
   ]
  },
  {
   "cell_type": "markdown",
   "id": "b6057288",
   "metadata": {},
   "source": [
    "Let $x_0 = x$ and $x_1 = y$ from the original problem statment.\n",
    "Using $x$ as intended for `milp()`, let $x = \\begin{pmatrix} x_0 & x_1 \\end{pmatrix}$.\n",
    "Then let $c = \\begin{pmatrix} 0 & -1 \\end{pmatrix}$ so that $c^T x = -x_1 = -y$. Notice that it is negative since `milp()` solves minimization problems, which can be expresses as negatives of maximization problems."
   ]
  },
  {
   "cell_type": "code",
   "execution_count": 2,
   "id": "e5c10f38",
   "metadata": {},
   "outputs": [],
   "source": [
    "c = np.array([0, -1])"
   ]
  },
  {
   "cell_type": "markdown",
   "id": "652b0d44",
   "metadata": {},
   "source": [
    "The matrix $A$ is comprised of the coefficients from the three linear inequalities:\n",
    "\n",
    "$$\n",
    "\\begin{align}\n",
    "    -x + y &\\le 1 \\\\\n",
    "    3x + 2y & \\le 12 \\\\\n",
    "    2x + 3y & \\le 12 \\\\\n",
    "\\end{align}\n",
    "$$\n",
    "\n",
    "and is written as\n",
    "\n",
    "$$A = \\begin{pmatrix}\n",
    "    -1 & 1 \\\\\n",
    "     3 & 2 \\\\\n",
    "     2 & 3 \n",
    "\\end{pmatrix}\n",
    "$$"
   ]
  },
  {
   "cell_type": "code",
   "execution_count": 3,
   "id": "179786af",
   "metadata": {},
   "outputs": [],
   "source": [
    "A = np.array([\n",
    "    [-1, 1],\n",
    "    [3, 2],\n",
    "    [2, 3]\n",
    "])"
   ]
  },
  {
   "cell_type": "markdown",
   "id": "05e02e20",
   "metadata": {},
   "source": [
    "The limits of the linear program can be expresses as vectors $b_l$ and $b_u$, called the upper and lower bounds vectors. The values from the original inequalities\n",
    "\n",
    "$$\n",
    "\\begin{align}\n",
    "    -x + y &\\le 1 \\\\\n",
    "    3x + 2y & \\le 12 \\\\\n",
    "    2x + 3y & \\le 12 \\\\\n",
    "\\end{align}\n",
    "$$\n",
    "\n",
    "are used directly for $b_u$. However, there is no lower bound, so $-\\infty$ is used for $b_l$:\n",
    "\n",
    "$$\n",
    "b_u = \\begin{pmatrix} 1 & 12 & 12 \\end{pmatrix}\n",
    "\\text{ and }\n",
    "b_l = \\begin{pmatrix} -\\infty & -\\infty & -\\infty \\end{pmatrix}\n",
    "$$."
   ]
  },
  {
   "cell_type": "code",
   "execution_count": 4,
   "id": "196fe2ea",
   "metadata": {},
   "outputs": [],
   "source": [
    "b_u = np.array([1, 12, 12])\n",
    "b_l = np.array([-np.inf, -np.inf, -np.inf])"
   ]
  },
  {
   "cell_type": "markdown",
   "id": "5e5cbc45",
   "metadata": {},
   "source": [
    "With the problem converted to a form more suitable for `milp()`, we can specify some final constraings before finding the solution."
   ]
  },
  {
   "cell_type": "code",
   "execution_count": 5,
   "id": "74a34987",
   "metadata": {},
   "outputs": [
    {
     "data": {
      "text/plain": [
       "array([2., 2.])"
      ]
     },
     "execution_count": 5,
     "metadata": {},
     "output_type": "execute_result"
    }
   ],
   "source": [
    "# The set of linear inequalities are communicated to milp() as a\n",
    "# LinearConstraint object.\n",
    "constraints = LinearConstraint(A, b_l, b_u)\n",
    "\n",
    "# The integrality constraint for a particular variable is indicated\n",
    "# by passing the value 1 for its position in this array. Other types\n",
    "# of constraints are available.\n",
    "integrality = np.array([1, 1])\n",
    "\n",
    "res = milp(c=c, constraints=constraints, integrality=integrality)\n",
    "\n",
    "res.x"
   ]
  },
  {
   "cell_type": "code",
   "execution_count": null,
   "id": "21429852",
   "metadata": {},
   "outputs": [],
   "source": []
  }
 ],
 "metadata": {
  "kernelspec": {
   "display_name": "Python 3 (ipykernel)",
   "language": "python",
   "name": "python3"
  },
  "language_info": {
   "codemirror_mode": {
    "name": "ipython",
    "version": 3
   },
   "file_extension": ".py",
   "mimetype": "text/x-python",
   "name": "python",
   "nbconvert_exporter": "python",
   "pygments_lexer": "ipython3",
   "version": "3.11.2"
  }
 },
 "nbformat": 4,
 "nbformat_minor": 5
}
