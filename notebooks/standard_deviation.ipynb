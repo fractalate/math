{
 "cells": [
  {
   "cell_type": "code",
   "execution_count": 1,
   "id": "3d43c5d0",
   "metadata": {},
   "outputs": [],
   "source": [
    "from math import sqrt"
   ]
  },
  {
   "cell_type": "code",
   "execution_count": 2,
   "id": "1f586dbe",
   "metadata": {},
   "outputs": [],
   "source": [
    "def avg(xs):\n",
    "    total = 0.0\n",
    "    count = 0\n",
    "    for x in xs:\n",
    "        total += x\n",
    "        count += 1\n",
    "    return total / count"
   ]
  },
  {
   "cell_type": "code",
   "execution_count": 3,
   "id": "32fd4bea",
   "metadata": {},
   "outputs": [],
   "source": [
    "def stddev0(xs):\n",
    "    items = list(xs)\n",
    "    ibar = avg(xs)\n",
    "    return sqrt(\n",
    "        sum((x - ibar) ** 2 for x in xs) / len(xs)\n",
    "    )\n",
    "\n",
    "def stddev1(xs):\n",
    "    xs = list(xs)\n",
    "    xbar2 = avg(xs) ** 2\n",
    "    x2bar = avg(x ** 2 for x in xs)\n",
    "    return sqrt(x2bar - xbar2)\n",
    "\n",
    "def stddev2(xs):\n",
    "    tx = 0.0\n",
    "    tx2 = 0.0\n",
    "    count = 0\n",
    "    for x in xs:\n",
    "        tx += x\n",
    "        tx2 += x * x\n",
    "        count += 1\n",
    "    return sqrt(tx2 / count - (tx / count) ** 2)\n",
    "    \n",
    "stddev = stddev2"
   ]
  },
  {
   "cell_type": "markdown",
   "id": "2cf61a83",
   "metadata": {},
   "source": [
    "There are at least two equivalent ways to express the standard deviation as a formula. First, the familiar, which is implemented as `stddev0()` above:\n",
    "\n",
    "$$\\sqrt{\\frac{1}{N} \\sum_{i=1}^{N} (x_i - \\bar{x})^2 }$$\n",
    "\n",
    "Second, a more computational friendly variant which is implemented as `stddev2()` above (and less efficiently as `stddev1()` above):\n",
    "\n",
    "$$\\sqrt{ \\frac{1}{N} \\sum_{i=1}^{N} x_i^2 - \\left( \\frac{1}{N} \\sum_{i=1}^{N} x_i \\right)^2 }$$"
   ]
  },
  {
   "cell_type": "code",
   "execution_count": 4,
   "id": "5f7c94a3",
   "metadata": {},
   "outputs": [
    {
     "name": "stdout",
     "output_type": "stream",
     "text": [
      "2.0 1.0 1.0 1.0\n",
      "15.75 25.54774941164094 25.54774941164094 25.54774941164094\n",
      "4.5 1.118033988749895 1.118033988749895 1.118033988749895\n"
     ]
    }
   ],
   "source": [
    "items = [1, 3, 1, 3]\n",
    "print(avg(items), stddev0(items), stddev1(items), stddev2(items))\n",
    "items = [1, 1, 1, 60]\n",
    "print(avg(items), stddev0(items), stddev1(items), stddev2(items))\n",
    "items = [4, 5, 3, 6]\n",
    "print(avg(items), stddev0(items), stddev1(items), stddev2(items))"
   ]
  },
  {
   "cell_type": "markdown",
   "id": "353289b4",
   "metadata": {},
   "source": [
    "## Numpy"
   ]
  },
  {
   "cell_type": "code",
   "execution_count": 5,
   "id": "40905085",
   "metadata": {},
   "outputs": [
    {
     "name": "stdout",
     "output_type": "stream",
     "text": [
      "2.0 1.0\n",
      "15.75 25.54774941164094\n",
      "4.5 1.118033988749895\n"
     ]
    }
   ],
   "source": [
    "import numpy as np\n",
    "\n",
    "items = np.array([1, 3, 1, 3])\n",
    "print(np.average(items), items.std())\n",
    "items = np.array([1, 1, 1, 60])\n",
    "print(np.average(items), items.std())\n",
    "items = np.array([4, 5, 3, 6])\n",
    "print(np.average(items), items.std())"
   ]
  },
  {
   "cell_type": "code",
   "execution_count": 6,
   "id": "3763ab23",
   "metadata": {},
   "outputs": [
    {
     "name": "stdout",
     "output_type": "stream",
     "text": [
      "[ 4.5  -1.    1.75 -0.25]\n",
      "[1.11803399 3.082207   3.56195171 1.78535711]\n"
     ]
    }
   ],
   "source": [
    "items = np.array([\n",
    "    [4, 1, 2, 0],\n",
    "    [5, -1, -3, 2],\n",
    "    [3, 2, 1, 0],\n",
    "    [6, -6, 7, -3],\n",
    "])\n",
    "print(np.average(items, axis=0))\n",
    "print(items.std(axis=0))"
   ]
  },
  {
   "cell_type": "markdown",
   "id": "8d6d2df0-73d3-460c-8500-b7f5a08d68ab",
   "metadata": {},
   "source": [
    "# Standard Deviation Facts"
   ]
  },
  {
   "cell_type": "markdown",
   "id": "ae0554b8-ee56-4df2-ab82-de3a2fe6f841",
   "metadata": {},
   "source": [
    "## Combining Data Sets\n",
    "\n",
    "When two data sets having the same standard deviation are combined, the combined standard deviation increases from the shared value as the difference between the two sets' averages increases."
   ]
  },
  {
   "cell_type": "code",
   "execution_count": 7,
   "id": "52a83dd8-c855-4b4c-a14c-e9f31ff664a5",
   "metadata": {},
   "outputs": [
    {
     "name": "stdout",
     "output_type": "stream",
     "text": [
      "A 250.58994693490035 9.833214329859887\n",
      "B 99.91381020376556 10.127518446324235\n",
      "C 175.25187856933297 75.99640723102445\n"
     ]
    }
   ],
   "source": [
    "import random\n",
    "\n",
    "# Target Standard Deviation\n",
    "sd = 10\n",
    "# Target Averages and Sizes\n",
    "aa, counta = 250, 1000\n",
    "ab, countb = 100, 1000\n",
    "\n",
    "# This generates normally distributed values with the given average and standard deviation.\n",
    "data_a = np.array([random.gauss(aa, sd) for i in range(counta)])\n",
    "data_b = np.array([random.gauss(ab, sd) for i in range(countb)])\n",
    "# This combines the two sets.\n",
    "data_c = np.concatenate((data_a, data_b))\n",
    "\n",
    "print('A', np.average(data_a), data_a.std())\n",
    "print('B', np.average(data_b), data_b.std())\n",
    "print('C', np.average(data_c), data_c.std())"
   ]
  },
  {
   "cell_type": "markdown",
   "id": "7ddadffe-2240-429a-83ee-fb42db307dde",
   "metadata": {},
   "source": [
    "This applies even when the size of the sets are not equal. As the difference in the size of the sets increases, the effect on the standard deviation is reduced."
   ]
  },
  {
   "cell_type": "code",
   "execution_count": 8,
   "id": "0e871560-718e-43e8-ad7c-f08254a0dafd",
   "metadata": {},
   "outputs": [
    {
     "name": "stdout",
     "output_type": "stream",
     "text": [
      "A 250.07137414863433 9.718420577996524\n",
      "B 100.16112043852411 9.94091893482591\n",
      "C 113.78932532126139 44.22334112934206\n"
     ]
    }
   ],
   "source": [
    "import random\n",
    "\n",
    "# Target Standard Deviation\n",
    "sd = 10\n",
    "# Target Averages and Sizes\n",
    "aa, counta = 250, 1000\n",
    "ab, countb = 100, counta * 10\n",
    "\n",
    "# This generates normally distributed values with the given average and standard deviation.\n",
    "data_a = np.array([random.gauss(aa, sd) for i in range(counta)])\n",
    "data_b = np.array([random.gauss(ab, sd) for i in range(countb)])\n",
    "# This combines the two sets.\n",
    "data_c = np.concatenate((data_a, data_b))\n",
    "\n",
    "print('A', np.average(data_a), data_a.std())\n",
    "print('B', np.average(data_b), data_b.std())\n",
    "print('C', np.average(data_c), data_c.std())"
   ]
  }
 ],
 "metadata": {
  "kernelspec": {
   "display_name": "Python 3 (ipykernel)",
   "language": "python",
   "name": "python3"
  },
  "language_info": {
   "codemirror_mode": {
    "name": "ipython",
    "version": 3
   },
   "file_extension": ".py",
   "mimetype": "text/x-python",
   "name": "python",
   "nbconvert_exporter": "python",
   "pygments_lexer": "ipython3",
   "version": "3.11.2"
  }
 },
 "nbformat": 4,
 "nbformat_minor": 5
}
