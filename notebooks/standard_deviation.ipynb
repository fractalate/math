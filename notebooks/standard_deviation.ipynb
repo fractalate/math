{
 "cells": [
  {
   "cell_type": "code",
   "execution_count": 1,
   "id": "3d43c5d0",
   "metadata": {},
   "outputs": [],
   "source": [
    "from math import sqrt"
   ]
  },
  {
   "cell_type": "code",
   "execution_count": 2,
   "id": "1f586dbe",
   "metadata": {},
   "outputs": [],
   "source": [
    "def avg(xs):\n",
    "    total = 0.0\n",
    "    count = 0\n",
    "    for x in xs:\n",
    "        total += x\n",
    "        count += 1\n",
    "    return total / count"
   ]
  },
  {
   "cell_type": "code",
   "execution_count": 3,
   "id": "32fd4bea",
   "metadata": {},
   "outputs": [],
   "source": [
    "def stddev0(xs):\n",
    "    items = list(xs)\n",
    "    ibar = avg(xs)\n",
    "    return sqrt(\n",
    "        sum((x - ibar) ** 2 for x in xs) / len(xs)\n",
    "    )\n",
    "\n",
    "def stddev1(xs):\n",
    "    xs = list(xs)\n",
    "    xbar2 = avg(xs) ** 2\n",
    "    x2bar = avg(x ** 2 for x in xs)\n",
    "    return sqrt(x2bar - xbar2)\n",
    "\n",
    "def stddev2(xs):\n",
    "    tx = 0.0\n",
    "    tx2 = 0.0\n",
    "    count = 0\n",
    "    for x in xs:\n",
    "        tx += x\n",
    "        tx2 += x * x\n",
    "        count += 1\n",
    "    return sqrt(tx2 / count - (tx / count) ** 2)\n",
    "    \n",
    "stddev = stddev2"
   ]
  },
  {
   "cell_type": "markdown",
   "id": "2cf61a83",
   "metadata": {},
   "source": [
    "There are at least two equivalent ways to express the standard deviation as a formula. First, the familiar, which is implemented as `stddev0()` above:\n",
    "\n",
    "$$\\sqrt{\\frac{1}{N} \\sum_{i=1}^{N} (x_i - \\bar{x})^2 }$$\n",
    "\n",
    "Second, a more computational friendly variant which is implemented as `stddev2()` above (and less efficiently as `stddev1()` above):\n",
    "\n",
    "$$\\sqrt{ \\frac{1}{N} \\sum_{i=1}^{N} x_i^2 - \\left( \\frac{1}{N} \\sum_{i=1}^{N} x_i \\right)^2 }$$"
   ]
  },
  {
   "cell_type": "code",
   "execution_count": 4,
   "id": "5f7c94a3",
   "metadata": {},
   "outputs": [
    {
     "name": "stdout",
     "output_type": "stream",
     "text": [
      "2.0 1.0 1.0 1.0\n",
      "15.75 25.54774941164094 25.54774941164094 25.54774941164094\n",
      "4.5 1.118033988749895 1.118033988749895 1.118033988749895\n"
     ]
    }
   ],
   "source": [
    "items = [1, 3, 1, 3]\n",
    "print(avg(items), stddev0(items), stddev1(items), stddev2(items))\n",
    "items = [1, 1, 1, 60]\n",
    "print(avg(items), stddev0(items), stddev1(items), stddev2(items))\n",
    "items = [4, 5, 3, 6]\n",
    "print(avg(items), stddev0(items), stddev1(items), stddev2(items))"
   ]
  },
  {
   "cell_type": "code",
   "execution_count": null,
   "id": "40905085",
   "metadata": {},
   "outputs": [],
   "source": []
  }
 ],
 "metadata": {
  "kernelspec": {
   "display_name": "Python 3 (ipykernel)",
   "language": "python",
   "name": "python3"
  },
  "language_info": {
   "codemirror_mode": {
    "name": "ipython",
    "version": 3
   },
   "file_extension": ".py",
   "mimetype": "text/x-python",
   "name": "python",
   "nbconvert_exporter": "python",
   "pygments_lexer": "ipython3",
   "version": "3.11.2"
  }
 },
 "nbformat": 4,
 "nbformat_minor": 5
}
