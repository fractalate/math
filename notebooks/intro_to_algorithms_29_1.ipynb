{
 "cells": [
  {
   "cell_type": "markdown",
   "id": "68b63751-2c34-4f29-a910-12cefa716450",
   "metadata": {},
   "source": [
    "# Introduction to Algorithms\n",
    "## Chapter 29.1\n",
    "### Problem 4"
   ]
  },
  {
   "cell_type": "code",
   "execution_count": 1,
   "id": "9fffb401-9be8-496a-aed7-c764f03ef740",
   "metadata": {},
   "outputs": [],
   "source": [
    "import numpy as np\n",
    "from scipy.optimize import LinearConstraint, milp"
   ]
  },
  {
   "cell_type": "markdown",
   "id": "6b61e63b-73c8-4d83-91c3-828bbde4bf89",
   "metadata": {},
   "source": [
    "From the book, I find this solution:"
   ]
  },
  {
   "cell_type": "code",
   "execution_count": 2,
   "id": "606bea0a-4bd7-41bf-a0f4-3a7ebf886ea8",
   "metadata": {},
   "outputs": [
    {
     "name": "stdout",
     "output_type": "stream",
     "text": [
      "[ 7.  3. -0.]\n"
     ]
    }
   ],
   "source": [
    "c = np.array([2, 7, 1])\n",
    "\n",
    "A = np.array([\n",
    "    [1, 0, -1],\n",
    "    [3, 1, 0],\n",
    "    [0, 1, 0],\n",
    "    [0, 0, 1],\n",
    "])\n",
    "\n",
    "lbs = np.array([\n",
    "    7,\n",
    "    24,\n",
    "    0,\n",
    "    -np.inf,\n",
    "])\n",
    "\n",
    "ubs = np.array([\n",
    "    7,\n",
    "    np.inf,\n",
    "    np.inf,\n",
    "    0,\n",
    "])\n",
    "\n",
    "constraints = LinearConstraint(A, lbs, ubs)\n",
    "\n",
    "res = milp(c=c, constraints=constraints)\n",
    "\n",
    "print(res.x)"
   ]
  },
  {
   "cell_type": "markdown",
   "id": "ddb262c5-dca0-4369-801e-ec7ba2f27669",
   "metadata": {},
   "source": [
    "My rewritten form\n",
    "\n",
    "$$\n",
    "\\begin{array}{lrcrcrcrcrl}\n",
    "\\text{maximize}   & -2x_1 & + & 2x_2 & - & 7x_3 & +  & x_4 &     & \\\\\\\\\n",
    "\\text{subject to} & \\\\\\\\\n",
    "                  &  -x_1 & + &  x_2 &   &      & -  & x_4 & \\le &  -7 \\\\\\\\\n",
    "                  &   x_1 & - &  x_2 &   &      & +  & x_4 & \\le &   7 \\\\\\\\\n",
    "                  & -3x_1 & + & 3x_2 & - &  x_3 &    &     & \\le & -24 \\\\\\\\\n",
    "                  &       & x_1, x_2, x_3, x_4  & & & & &  & \\ge &   0 & .\n",
    "\\end{array}\n",
    "$$"
   ]
  },
  {
   "cell_type": "code",
   "execution_count": 3,
   "id": "d8497ac3-9471-44b9-82a7-d3c550751ed7",
   "metadata": {},
   "outputs": [
    {
     "name": "stdout",
     "output_type": "stream",
     "text": [
      "[7. 0. 3. 0.]\n"
     ]
    }
   ],
   "source": [
    "# Rewritten form is a maximization problem, but negate it to be\n",
    "# a minimization problem again.\n",
    "c = -np.array([-2, 2, -7, 1])\n",
    "\n",
    "A = np.array([\n",
    "    [-1, 1, 0, -1],\n",
    "    [1, -1, 0, 1],\n",
    "    [-3, 3, -1, 0],\n",
    "\n",
    "    [1, 0, 0, 0],\n",
    "    [0, 1, 0, 0],\n",
    "    [0, 0, 1, 0],\n",
    "    [0, 0, 0, 1],\n",
    "])\n",
    "\n",
    "lbs = np.array([\n",
    "    -np.inf,\n",
    "    -np.inf,\n",
    "    -np.inf,\n",
    "\n",
    "    0,\n",
    "    0,\n",
    "    0,\n",
    "    0,\n",
    "])\n",
    "\n",
    "ubs = np.array([\n",
    "    -7,\n",
    "    7,\n",
    "    -24,\n",
    "    \n",
    "    np.inf,\n",
    "    np.inf,\n",
    "    np.inf,\n",
    "    np.inf,\n",
    "])\n",
    "\n",
    "constraints = LinearConstraint(A, lbs, ubs)\n",
    "\n",
    "res = milp(c=c, constraints=constraints)\n",
    "\n",
    "print(res.x)"
   ]
  },
  {
   "cell_type": "markdown",
   "id": "7530a6e7-a872-4953-bb55-feeef28286ec",
   "metadata": {},
   "source": [
    "This following example comes from [CLRS](https://github.com/walkccc/CLRS/blob/0aaa72135ae0a3d80354d14a006d903fa0f76727/docs/Chap29/29.1.md). Attempting to find the solution to the rewritten problem produces no solution."
   ]
  },
  {
   "cell_type": "code",
   "execution_count": 4,
   "id": "1a88d2c7-0462-4c6a-bb6b-853394ced913",
   "metadata": {},
   "outputs": [
    {
     "name": "stdout",
     "output_type": "stream",
     "text": [
      "None\n"
     ]
    }
   ],
   "source": [
    "# Rewritten form is a maximization problem, but negate it to be\n",
    "# a minimization problem again.\n",
    "c = -np.array([-2, -2, -7, 1])\n",
    "\n",
    "A = np.array([\n",
    "    [-1,  1,  0, -1],\n",
    "    [ 1, -1,  0,  1],\n",
    "    [-3,  3, -1,  0],\n",
    "\n",
    "    [ 1,  0,  0,  0],\n",
    "    [ 0,  1,  0,  0],\n",
    "    [ 0,  0,  1,  0],\n",
    "    [ 0,  0,  0,  1],\n",
    "])\n",
    "\n",
    "lbs = np.array([\n",
    "    -np.inf,\n",
    "    -np.inf,\n",
    "    -np.inf,\n",
    "\n",
    "    -np.inf,\n",
    "    -np.inf,\n",
    "    -np.inf,\n",
    "    -np.inf,\n",
    "])\n",
    "\n",
    "ubs = np.array([\n",
    "    -7,\n",
    "    7,\n",
    "    -24,\n",
    "\n",
    "    0,\n",
    "    0,\n",
    "    0,\n",
    "    0,\n",
    "])\n",
    "\n",
    "constraints = LinearConstraint(A, lbs, ubs)\n",
    "\n",
    "res = milp(c=c, constraints=constraints)\n",
    "\n",
    "print(res.x)"
   ]
  },
  {
   "cell_type": "code",
   "execution_count": null,
   "id": "b9c9a4aa-c842-4481-a19d-532d96b78a5c",
   "metadata": {},
   "outputs": [],
   "source": []
  }
 ],
 "metadata": {
  "kernelspec": {
   "display_name": "Python 3 (ipykernel)",
   "language": "python",
   "name": "python3"
  },
  "language_info": {
   "codemirror_mode": {
    "name": "ipython",
    "version": 3
   },
   "file_extension": ".py",
   "mimetype": "text/x-python",
   "name": "python",
   "nbconvert_exporter": "python",
   "pygments_lexer": "ipython3",
   "version": "3.11.2"
  }
 },
 "nbformat": 4,
 "nbformat_minor": 5
}
